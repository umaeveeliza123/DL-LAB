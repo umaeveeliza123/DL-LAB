{
 "cells": [
  {
   "cell_type": "code",
   "execution_count": 25,
   "id": "70869e53",
   "metadata": {},
   "outputs": [],
   "source": [
    "import numpy as np\n",
    "import pandas as pd\n",
    "import matplotlib.pyplot as plt\n",
    "import argparse\n",
    "\n",
    "from sklearn import datasets\n",
    "from sklearn.model_selection import train_test_split\n",
    "from sklearn import metrics\n",
    "\n",
    "#\n",
    "# Import Keras modules\n",
    "from keras import models\n",
    "from tensorflow.keras.models import Sequential\n",
    "from keras import layers\n",
    "from tensorflow.keras.utils import to_categorical\n",
    "from tensorflow.keras.optimizers import SGD\n",
    "from sklearn.neural_network import MLPClassifier # neural network"
   ]
  },
  {
   "cell_type": "code",
   "execution_count": 26,
   "id": "68216e53",
   "metadata": {},
   "outputs": [
    {
     "data": {
      "text/html": [
       "<div>\n",
       "<style scoped>\n",
       "    .dataframe tbody tr th:only-of-type {\n",
       "        vertical-align: middle;\n",
       "    }\n",
       "\n",
       "    .dataframe tbody tr th {\n",
       "        vertical-align: top;\n",
       "    }\n",
       "\n",
       "    .dataframe thead th {\n",
       "        text-align: right;\n",
       "    }\n",
       "</style>\n",
       "<table border=\"1\" class=\"dataframe\">\n",
       "  <thead>\n",
       "    <tr style=\"text-align: right;\">\n",
       "      <th></th>\n",
       "      <th>slength</th>\n",
       "      <th>swidth</th>\n",
       "      <th>plength</th>\n",
       "      <th>pwidth</th>\n",
       "      <th>label</th>\n",
       "    </tr>\n",
       "  </thead>\n",
       "  <tbody>\n",
       "    <tr>\n",
       "      <th>0</th>\n",
       "      <td>5.1</td>\n",
       "      <td>3.5</td>\n",
       "      <td>1.4</td>\n",
       "      <td>0.2</td>\n",
       "      <td>Iris-setosa</td>\n",
       "    </tr>\n",
       "    <tr>\n",
       "      <th>1</th>\n",
       "      <td>4.9</td>\n",
       "      <td>3.0</td>\n",
       "      <td>1.4</td>\n",
       "      <td>0.2</td>\n",
       "      <td>Iris-setosa</td>\n",
       "    </tr>\n",
       "    <tr>\n",
       "      <th>2</th>\n",
       "      <td>4.7</td>\n",
       "      <td>3.2</td>\n",
       "      <td>1.3</td>\n",
       "      <td>0.2</td>\n",
       "      <td>Iris-setosa</td>\n",
       "    </tr>\n",
       "    <tr>\n",
       "      <th>3</th>\n",
       "      <td>4.6</td>\n",
       "      <td>3.1</td>\n",
       "      <td>1.5</td>\n",
       "      <td>0.2</td>\n",
       "      <td>Iris-setosa</td>\n",
       "    </tr>\n",
       "    <tr>\n",
       "      <th>4</th>\n",
       "      <td>5.0</td>\n",
       "      <td>3.6</td>\n",
       "      <td>1.4</td>\n",
       "      <td>0.2</td>\n",
       "      <td>Iris-setosa</td>\n",
       "    </tr>\n",
       "  </tbody>\n",
       "</table>\n",
       "</div>"
      ],
      "text/plain": [
       "   slength  swidth  plength  pwidth        label\n",
       "0      5.1     3.5      1.4     0.2  Iris-setosa\n",
       "1      4.9     3.0      1.4     0.2  Iris-setosa\n",
       "2      4.7     3.2      1.3     0.2  Iris-setosa\n",
       "3      4.6     3.1      1.5     0.2  Iris-setosa\n",
       "4      5.0     3.6      1.4     0.2  Iris-setosa"
      ]
     },
     "execution_count": 26,
     "metadata": {},
     "output_type": "execute_result"
    }
   ],
   "source": [
    "col_names = ['slength', 'swidth', 'plength', 'pwidth', 'label']\n",
    "# load dataset\n",
    "iris = pd.read_csv(\"iris.csv\", header=None, names=col_names)\n",
    "\n",
    "iris.head()"
   ]
  },
  {
   "cell_type": "code",
   "execution_count": 27,
   "id": "fc744c49",
   "metadata": {},
   "outputs": [],
   "source": [
    "# Load the iris dataset\n",
    "\n",
    "iris = datasets.load_iris()"
   ]
  },
  {
   "cell_type": "code",
   "execution_count": 28,
   "id": "560449db",
   "metadata": {},
   "outputs": [],
   "source": [
    "X = iris.data\n",
    "y = iris.target"
   ]
  },
  {
   "cell_type": "code",
   "execution_count": 29,
   "id": "aff99001",
   "metadata": {},
   "outputs": [],
   "source": [
    "X_train, X_test, y_train, y_test = train_test_split(X, y, test_size=0.3, stratify=y, random_state=1)"
   ]
  },
  {
   "cell_type": "code",
   "execution_count": 30,
   "id": "8e9b15e2",
   "metadata": {},
   "outputs": [],
   "source": [
    "train_labels = to_categorical(y_train)\n",
    "test_labels = to_categorical(y_test)"
   ]
  },
  {
   "cell_type": "code",
   "execution_count": 31,
   "id": "a50f75a5",
   "metadata": {},
   "outputs": [],
   "source": [
    "clf = MLPClassifier(solver='adam', alpha=1e-5, hidden_layer_sizes=(3, 3), random_state=1)"
   ]
  },
  {
   "cell_type": "code",
   "execution_count": 32,
   "id": "4381a170",
   "metadata": {},
   "outputs": [
    {
     "name": "stderr",
     "output_type": "stream",
     "text": [
      "D:\\Users\\sf41\\Anaconda3\\envs\\tensorflow_env\\lib\\site-packages\\sklearn\\neural_network\\_multilayer_perceptron.py:614: ConvergenceWarning: Stochastic Optimizer: Maximum iterations (200) reached and the optimization hasn't converged yet.\n",
      "  warnings.warn(\n"
     ]
    },
    {
     "data": {
      "text/plain": [
       "MLPClassifier(alpha=1e-05, hidden_layer_sizes=(3, 3), random_state=1)"
      ]
     },
     "execution_count": 32,
     "metadata": {},
     "output_type": "execute_result"
    }
   ],
   "source": [
    "clf.fit(X_train, y_train)"
   ]
  },
  {
   "cell_type": "code",
   "execution_count": 33,
   "id": "544ae9ad",
   "metadata": {},
   "outputs": [
    {
     "name": "stdout",
     "output_type": "stream",
     "text": [
      "[2 1 1 2 1 1 2 1 2 0 1 2 0 1 0 1 2 2 1 2 2 0 1 2 2 2 1 2 1 2 1 0 1 1 2 2 1\n",
      " 0 0 1 2 2 1 0 0]\n"
     ]
    }
   ],
   "source": [
    "prediction = clf.predict(X_test)\n",
    "print(prediction)"
   ]
  },
  {
   "cell_type": "code",
   "execution_count": 34,
   "id": "56bff42c",
   "metadata": {},
   "outputs": [
    {
     "name": "stdout",
     "output_type": "stream",
     "text": [
      "[2 0 0 2 1 1 2 1 2 0 0 2 0 1 0 1 2 1 1 2 2 0 1 2 1 1 1 2 0 2 0 0 1 1 2 2 0\n",
      " 0 0 1 2 2 1 0 0]\n"
     ]
    }
   ],
   "source": [
    "print(y_test)"
   ]
  },
  {
   "cell_type": "code",
   "execution_count": 35,
   "id": "ef53c266",
   "metadata": {},
   "outputs": [],
   "source": [
    "network = models.Sequential()\n",
    "network.add(layers.Dense(32, activation='relu', input_shape=(4,)))\n",
    "network.add(layers.Dense(64, activation='relu'))\n",
    "network.add(layers.Dense(128, activation='relu'))\n",
    "network.add(layers.Dense(3, activation='softmax'))"
   ]
  },
  {
   "cell_type": "code",
   "execution_count": 45,
   "id": "e02e3293",
   "metadata": {},
   "outputs": [],
   "source": [
    "learning_rate=0.01\n",
    "sgd=SGD(learning_rate)\n",
    "network.compile(optimizer='sgd',\n",
    "                loss='categorical_crossentropy',\n",
    "                metrics=['accuracy'])"
   ]
  },
  {
   "cell_type": "code",
   "execution_count": 46,
   "id": "27cdbee5",
   "metadata": {},
   "outputs": [
    {
     "name": "stdout",
     "output_type": "stream",
     "text": [
      "Epoch 1/50\n",
      "9/9 [==============================] - 0s 29ms/step - loss: 0.1955 - accuracy: 0.9167 - val_loss: 0.0763 - val_accuracy: 1.0000\n",
      "Epoch 2/50\n",
      "9/9 [==============================] - 0s 5ms/step - loss: 0.1387 - accuracy: 0.9524 - val_loss: 0.0660 - val_accuracy: 1.0000\n",
      "Epoch 3/50\n",
      "9/9 [==============================] - 0s 4ms/step - loss: 0.1191 - accuracy: 0.9643 - val_loss: 0.0973 - val_accuracy: 0.9524\n",
      "Epoch 4/50\n",
      "9/9 [==============================] - 0s 5ms/step - loss: 0.1142 - accuracy: 0.9762 - val_loss: 0.2340 - val_accuracy: 0.9048\n",
      "Epoch 5/50\n",
      "9/9 [==============================] - 0s 4ms/step - loss: 0.1695 - accuracy: 0.9405 - val_loss: 0.0713 - val_accuracy: 0.9524\n",
      "Epoch 6/50\n",
      "9/9 [==============================] - 0s 5ms/step - loss: 0.1742 - accuracy: 0.9048 - val_loss: 0.0928 - val_accuracy: 0.9524\n",
      "Epoch 7/50\n",
      "9/9 [==============================] - 0s 5ms/step - loss: 0.1505 - accuracy: 0.9524 - val_loss: 0.1060 - val_accuracy: 0.9524\n",
      "Epoch 8/50\n",
      "9/9 [==============================] - 0s 5ms/step - loss: 0.1832 - accuracy: 0.9405 - val_loss: 0.1063 - val_accuracy: 0.9524\n",
      "Epoch 9/50\n",
      "9/9 [==============================] - 0s 5ms/step - loss: 0.1233 - accuracy: 0.9524 - val_loss: 0.1368 - val_accuracy: 0.9048\n",
      "Epoch 10/50\n",
      "9/9 [==============================] - 0s 5ms/step - loss: 0.1752 - accuracy: 0.9405 - val_loss: 0.0865 - val_accuracy: 0.9524\n",
      "Epoch 11/50\n",
      "9/9 [==============================] - 0s 5ms/step - loss: 0.1305 - accuracy: 0.9643 - val_loss: 0.3457 - val_accuracy: 0.8571\n",
      "Epoch 12/50\n",
      "9/9 [==============================] - 0s 5ms/step - loss: 0.2792 - accuracy: 0.8214 - val_loss: 0.0588 - val_accuracy: 1.0000\n",
      "Epoch 13/50\n",
      "9/9 [==============================] - 0s 5ms/step - loss: 0.1820 - accuracy: 0.9286 - val_loss: 0.0997 - val_accuracy: 0.9524\n",
      "Epoch 14/50\n",
      "9/9 [==============================] - 0s 5ms/step - loss: 0.1175 - accuracy: 0.9762 - val_loss: 0.0580 - val_accuracy: 1.0000\n",
      "Epoch 15/50\n",
      "9/9 [==============================] - 0s 5ms/step - loss: 0.1216 - accuracy: 0.9405 - val_loss: 0.0597 - val_accuracy: 1.0000\n",
      "Epoch 16/50\n",
      "9/9 [==============================] - 0s 5ms/step - loss: 0.1464 - accuracy: 0.9524 - val_loss: 0.0648 - val_accuracy: 1.0000\n",
      "Epoch 17/50\n",
      "9/9 [==============================] - 0s 5ms/step - loss: 0.1572 - accuracy: 0.9286 - val_loss: 1.3284 - val_accuracy: 0.7143\n",
      "Epoch 18/50\n",
      "9/9 [==============================] - 0s 5ms/step - loss: 0.3127 - accuracy: 0.8690 - val_loss: 0.0632 - val_accuracy: 1.0000\n",
      "Epoch 19/50\n",
      "9/9 [==============================] - 0s 5ms/step - loss: 0.1266 - accuracy: 0.9524 - val_loss: 0.0696 - val_accuracy: 1.0000\n",
      "Epoch 20/50\n",
      "9/9 [==============================] - 0s 5ms/step - loss: 0.1643 - accuracy: 0.9405 - val_loss: 0.1796 - val_accuracy: 0.9048\n",
      "Epoch 21/50\n",
      "9/9 [==============================] - 0s 5ms/step - loss: 0.1488 - accuracy: 0.9286 - val_loss: 0.0803 - val_accuracy: 0.9524\n",
      "Epoch 22/50\n",
      "9/9 [==============================] - 0s 5ms/step - loss: 0.1222 - accuracy: 0.9643 - val_loss: 0.0766 - val_accuracy: 0.9524\n",
      "Epoch 23/50\n",
      "9/9 [==============================] - 0s 5ms/step - loss: 0.1614 - accuracy: 0.9405 - val_loss: 0.0563 - val_accuracy: 1.0000\n",
      "Epoch 24/50\n",
      "9/9 [==============================] - 0s 5ms/step - loss: 0.1181 - accuracy: 0.9762 - val_loss: 0.0638 - val_accuracy: 0.9524\n",
      "Epoch 25/50\n",
      "9/9 [==============================] - 0s 5ms/step - loss: 0.1314 - accuracy: 0.9524 - val_loss: 0.0673 - val_accuracy: 1.0000\n",
      "Epoch 26/50\n",
      "9/9 [==============================] - 0s 5ms/step - loss: 0.1205 - accuracy: 0.9643 - val_loss: 0.1561 - val_accuracy: 0.9048\n",
      "Epoch 27/50\n",
      "9/9 [==============================] - 0s 5ms/step - loss: 0.1454 - accuracy: 0.9167 - val_loss: 0.0686 - val_accuracy: 0.9524\n",
      "Epoch 28/50\n",
      "9/9 [==============================] - 0s 5ms/step - loss: 0.1186 - accuracy: 0.9405 - val_loss: 0.0645 - val_accuracy: 1.0000\n",
      "Epoch 29/50\n",
      "9/9 [==============================] - 0s 5ms/step - loss: 0.1269 - accuracy: 0.9405 - val_loss: 0.0535 - val_accuracy: 1.0000\n",
      "Epoch 30/50\n",
      "9/9 [==============================] - 0s 5ms/step - loss: 0.1581 - accuracy: 0.9286 - val_loss: 0.0915 - val_accuracy: 0.9524\n",
      "Epoch 31/50\n",
      "9/9 [==============================] - 0s 5ms/step - loss: 0.1422 - accuracy: 0.9524 - val_loss: 0.8667 - val_accuracy: 0.7143\n",
      "Epoch 32/50\n",
      "9/9 [==============================] - 0s 5ms/step - loss: 0.2877 - accuracy: 0.8810 - val_loss: 0.0548 - val_accuracy: 1.0000\n",
      "Epoch 33/50\n",
      "9/9 [==============================] - 0s 5ms/step - loss: 0.1233 - accuracy: 0.9643 - val_loss: 0.0542 - val_accuracy: 1.0000\n",
      "Epoch 34/50\n",
      "9/9 [==============================] - 0s 5ms/step - loss: 0.1568 - accuracy: 0.9286 - val_loss: 0.2127 - val_accuracy: 0.9048\n",
      "Epoch 35/50\n",
      "9/9 [==============================] - 0s 5ms/step - loss: 0.1212 - accuracy: 0.9643 - val_loss: 0.0903 - val_accuracy: 0.9524\n",
      "Epoch 36/50\n",
      "9/9 [==============================] - 0s 5ms/step - loss: 0.1208 - accuracy: 0.9643 - val_loss: 0.0660 - val_accuracy: 1.0000\n",
      "Epoch 37/50\n",
      "9/9 [==============================] - 0s 5ms/step - loss: 0.1779 - accuracy: 0.9167 - val_loss: 0.0653 - val_accuracy: 0.9524\n",
      "Epoch 38/50\n",
      "9/9 [==============================] - 0s 5ms/step - loss: 0.1488 - accuracy: 0.9524 - val_loss: 0.0645 - val_accuracy: 1.0000\n",
      "Epoch 39/50\n",
      "9/9 [==============================] - 0s 5ms/step - loss: 0.1095 - accuracy: 0.9643 - val_loss: 0.0574 - val_accuracy: 1.0000\n",
      "Epoch 40/50\n",
      "9/9 [==============================] - 0s 5ms/step - loss: 0.1258 - accuracy: 0.9524 - val_loss: 0.0522 - val_accuracy: 1.0000\n",
      "Epoch 41/50\n",
      "9/9 [==============================] - 0s 5ms/step - loss: 0.1596 - accuracy: 0.9405 - val_loss: 0.0552 - val_accuracy: 1.0000\n",
      "Epoch 42/50\n",
      "9/9 [==============================] - 0s 5ms/step - loss: 0.1364 - accuracy: 0.9524 - val_loss: 0.0528 - val_accuracy: 1.0000\n",
      "Epoch 43/50\n",
      "9/9 [==============================] - 0s 5ms/step - loss: 0.1192 - accuracy: 0.9643 - val_loss: 0.0969 - val_accuracy: 0.9524\n",
      "Epoch 44/50\n",
      "9/9 [==============================] - 0s 5ms/step - loss: 0.1175 - accuracy: 0.9643 - val_loss: 0.2388 - val_accuracy: 0.9048\n",
      "Epoch 45/50\n",
      "9/9 [==============================] - 0s 5ms/step - loss: 0.1089 - accuracy: 0.9524 - val_loss: 0.0550 - val_accuracy: 1.0000\n",
      "Epoch 46/50\n",
      "9/9 [==============================] - 0s 5ms/step - loss: 0.1239 - accuracy: 0.9643 - val_loss: 0.1369 - val_accuracy: 0.9048\n",
      "Epoch 47/50\n",
      "9/9 [==============================] - 0s 5ms/step - loss: 0.1216 - accuracy: 0.9405 - val_loss: 0.0574 - val_accuracy: 1.0000\n",
      "Epoch 48/50\n",
      "9/9 [==============================] - 0s 5ms/step - loss: 0.1441 - accuracy: 0.9524 - val_loss: 0.0727 - val_accuracy: 0.9524\n",
      "Epoch 49/50\n",
      "9/9 [==============================] - 0s 5ms/step - loss: 0.1309 - accuracy: 0.9405 - val_loss: 0.4146 - val_accuracy: 0.9048\n",
      "Epoch 50/50\n",
      "9/9 [==============================] - 0s 5ms/step - loss: 0.1493 - accuracy: 0.9643 - val_loss: 0.1112 - val_accuracy: 0.9524\n"
     ]
    }
   ],
   "source": [
    "H=network.fit(X_train, train_labels, epochs=50, batch_size=10,validation_split=0.2)"
   ]
  },
  {
   "cell_type": "code",
   "execution_count": 47,
   "id": "289b6737",
   "metadata": {},
   "outputs": [
    {
     "data": {
      "text/plain": [
       "dict_keys(['loss', 'accuracy', 'val_loss', 'val_accuracy'])"
      ]
     },
     "execution_count": 47,
     "metadata": {},
     "output_type": "execute_result"
    }
   ],
   "source": [
    "H.history.keys()"
   ]
  },
  {
   "cell_type": "code",
   "execution_count": 48,
   "id": "02cbfeb9",
   "metadata": {},
   "outputs": [
    {
     "data": {
      "image/png": "[encoded data removed]",
      "text/plain": [
       "<Figure size 432x288 with 1 Axes>"
      ]
     },
     "metadata": {
      "needs_background": "light"
     },
     "output_type": "display_data"
    }
   ],
   "source": [
    "Acc_train = H.history['accuracy']\n",
    "Accu_val = H.history['val_accuracy']\n",
    "plt.plot(Acc_train, 'g', label='Training accuracy')\n",
    "plt.plot(Accu_val, 'b', label='validation accuracy')\n",
    "plt.title('Training and Validation Accuracy For Learning rate = %f' % learning_rate)\n",
    "plt.xlabel('Epochs')\n",
    "plt.ylabel('Accuracy')\n",
    "plt.legend(['train','val'],loc='lower right')\n",
    "plt.show()"
   ]
  },
  {
   "cell_type": "code",
   "execution_count": 49,
   "id": "1d74bcea",
   "metadata": {},
   "outputs": [
    {
     "name": "stdout",
     "output_type": "stream",
     "text": [
      "2/2 [==============================] - 0s 2ms/step - loss: 0.1285 - accuracy: 0.9556\n",
      "Test Accuracy:  0.9555555582046509 \n",
      "Test Loss:  0.12851814925670624\n"
     ]
    }
   ],
   "source": [
    "test_loss, test_acc = network.evaluate(X_test, test_labels)\n",
    "train_loss, train_acc = network.evaluate(X_train, train_labels)\n",
    "#\n",
    "# Print the test accuracy\n",
    "#\n",
    "print('Test Accuracy: ', test_acc, '\\nTest Loss: ', test_loss)\n",
    "print('Train Accuracy: ', train_acc, '\\nTrain Loss: ', train_loss)"
   ]
  },
  {
   "cell_type": "code",
   "execution_count": null,
   "id": "91c6303a",
   "metadata": {},
   "outputs": [],
   "source": []
  }
 ],
 "metadata": {
  "kernelspec": {
   "display_name": "Python 3 (ipykernel)",
   "language": "python",
   "name": "python3"
  },
  "language_info": {
   "codemirror_mode": {
    "name": "ipython",
    "version": 3
   },
   "file_extension": ".py",
   "mimetype": "text/x-python",
   "name": "python",
   "nbconvert_exporter": "python",
   "pygments_lexer": "ipython3",
   "version": "3.9.12"
  }
 },
 "nbformat": 4,
 "nbformat_minor": 5
}
