{
 "cells": [
  {
   "cell_type": "code",
   "execution_count": 1,
   "id": "2784eac3",
   "metadata": {},
   "outputs": [],
   "source": [
    "import tensorflow as tf"
   ]
  },
  {
   "cell_type": "code",
   "execution_count": 2,
   "id": "316491f4",
   "metadata": {},
   "outputs": [],
   "source": [
    "import keras"
   ]
  },
  {
   "cell_type": "code",
   "execution_count": 4,
   "id": "eb479cff",
   "metadata": {},
   "outputs": [
    {
     "name": "stdout",
     "output_type": "stream",
     "text": [
      "tf.Tensor(\n",
      "[[12 23 34 45]\n",
      " [ 2 25  1  8]\n",
      " [ 5  7 78 12]\n",
      " [95 21 47 20]], shape=(4, 4), dtype=int32)\n",
      "tf.Tensor([45 25 78 95], shape=(4,), dtype=int32)\n"
     ]
    }
   ],
   "source": [
    "# 1a. create a 2D array in Tensorflow and find max per row\n",
    "import tensorflow as tf\n",
    "mat=tf.constant([[12,23,34,45],[2,25,1,8],[5,7,78,12],[95,21,47,20]])\n",
    "print(mat)\n",
    "matmax=tf.math.reduce_max(mat,axis=1)\n",
    "print(matmax)"
   ]
  },
  {
   "cell_type": "code",
   "execution_count": 5,
   "id": "68a07c57",
   "metadata": {},
   "outputs": [
    {
     "name": "stdout",
     "output_type": "stream",
     "text": [
      "tf.Tensor(\n",
      "[[2 3 4 5]\n",
      " [9 6 7 9]\n",
      " [3 3 3 3]], shape=(3, 4), dtype=int32)\n"
     ]
    }
   ],
   "source": [
    "# 1b. Perform vector additio\n",
    "a=tf.constant([[1,2,3,4],\n",
    "               [2,4,5,6],\n",
    "               [1,1,1,1]])\n",
    "b=tf.constant([[1,1,1,1],\n",
    "               [7,2,2,3],\n",
    "               [2,2,2,2]])\n",
    "c=tf.add(a,b)\n",
    "print(c)"
   ]
  },
  {
   "cell_type": "code",
   "execution_count": 6,
   "id": "9d0b7e2c",
   "metadata": {},
   "outputs": [
    {
     "name": "stdout",
     "output_type": "stream",
     "text": [
      "tf.Tensor(\n",
      "[[ 3  5  7]\n",
      " [ 5  8 10]\n",
      " [ 7  4  2]], shape=(3, 3), dtype=int32)\n"
     ]
    }
   ],
   "source": [
    "# 1c.Add a tensor and a list of same shape in tensorflow\n",
    "list=[[1,2,3],[4,5,6],[1,1,1]]\n",
    "a=tf.constant([[2,3,4],\n",
    "               [1,3,4],\n",
    "               [6,3,1]])\n",
    "c=tf.add(list,a)\n",
    "print(c)"
   ]
  }
 ],
 "metadata": {
  "kernelspec": {
   "display_name": "Python 3 (ipykernel)",
   "language": "python",
   "name": "python3"
  },
  "language_info": {
   "codemirror_mode": {
    "name": "ipython",
    "version": 3
   },
   "file_extension": ".py",
   "mimetype": "text/x-python",
   "name": "python",
   "nbconvert_exporter": "python",
   "pygments_lexer": "ipython3",
   "version": "3.9.12"
  }
 },
 "nbformat": 4,
 "nbformat_minor": 5
}
